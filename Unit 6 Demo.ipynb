{
 "cells": [
  {
   "cell_type": "code",
   "execution_count": 2,
   "id": "8c505422",
   "metadata": {},
   "outputs": [],
   "source": [
    "import pandas as pd"
   ]
  },
  {
   "cell_type": "code",
   "execution_count": 3,
   "id": "31a8547b",
   "metadata": {},
   "outputs": [],
   "source": [
    "# Data import \n",
    "df = pd.read_csv('baby.csv')"
   ]
  },
  {
   "cell_type": "code",
   "execution_count": 4,
   "id": "5d9a1bae",
   "metadata": {},
   "outputs": [
    {
     "name": "stdout",
     "output_type": "stream",
     "text": [
      "   Birth Weight  Gestational Days  Maternal Age  Maternal Height  \\\n",
      "0           120               284            27               62   \n",
      "1           113               282            33               64   \n",
      "2           128               279            28               64   \n",
      "3           108               282            23               67   \n",
      "4           136               286            25               62   \n",
      "5           138               244            33               62   \n",
      "6           132               245            23               65   \n",
      "7           120               289            25               62   \n",
      "8           143               299            30               66   \n",
      "9           140               351            27               68   \n",
      "\n",
      "   Maternal Pregnancy Weight  Maternal Smoker  \n",
      "0                        100            False  \n",
      "1                        135            False  \n",
      "2                        115             True  \n",
      "3                        125             True  \n",
      "4                         93            False  \n",
      "5                        178            False  \n",
      "6                        140            False  \n",
      "7                        125            False  \n",
      "8                        136             True  \n",
      "9                        120            False  \n"
     ]
    }
   ],
   "source": [
    "print(df.head(10))"
   ]
  },
  {
   "cell_type": "code",
   "execution_count": 5,
   "id": "acc429de",
   "metadata": {},
   "outputs": [
    {
     "name": "stdout",
     "output_type": "stream",
     "text": [
      "Maternal Smoker\n",
      "False    123.085315\n",
      "True     113.819172\n",
      "Name: Birth Weight, dtype: float64\n"
     ]
    }
   ],
   "source": [
    "# Display the average birth weight of maternal smokers vs non-smokers\n",
    "print(df.groupby('Maternal Smoker')['Birth Weight'].mean())"
   ]
  },
  {
   "cell_type": "code",
   "execution_count": 7,
   "id": "d11cd9f4",
   "metadata": {},
   "outputs": [
    {
     "data": {
      "text/plain": [
       "<AxesSubplot:title={'center':'Birth Weight'}, xlabel='Maternal Smoker'>"
      ]
     },
     "execution_count": 7,
     "metadata": {},
     "output_type": "execute_result"
    },
    {
     "data": {
      "image/png": "[encoded data removed]",
      "text/plain": [
       "<Figure size 640x480 with 1 Axes>"
      ]
     },
     "metadata": {},
     "output_type": "display_data"
    }
   ],
   "source": [
    "# boxplots of the birth weight of Maternal smokers vs non-smokers\n",
    "df.boxplot(column = 'Birth Weight', by = 'Maternal Smoker')"
   ]
  },
  {
   "cell_type": "code",
   "execution_count": 14,
   "id": "35c39f0a",
   "metadata": {},
   "outputs": [],
   "source": [
    "# import the library package\n",
    "from scipy.stats import ttest_ind"
   ]
  },
  {
   "cell_type": "code",
   "execution_count": 15,
   "id": "d1f3e157",
   "metadata": {},
   "outputs": [
    {
     "name": "stdout",
     "output_type": "stream",
     "text": [
      "      Birth Weight  Gestational Days  Maternal Age  Maternal Height  \\\n",
      "2              128               279            28               64   \n",
      "3              108               282            23               67   \n",
      "8              143               299            30               66   \n",
      "10             144               282            32               64   \n",
      "11             141               279            23               63   \n",
      "...            ...               ...           ...              ...   \n",
      "1162           143               281            28               65   \n",
      "1163           113               287            29               70   \n",
      "1164           109               244            21               63   \n",
      "1165           103               278            30               60   \n",
      "1171           130               291            30               65   \n",
      "\n",
      "      Maternal Pregnancy Weight  Maternal Smoker  \n",
      "2                           115             True  \n",
      "3                           125             True  \n",
      "8                           136             True  \n",
      "10                          124             True  \n",
      "11                          128             True  \n",
      "...                         ...              ...  \n",
      "1162                        135             True  \n",
      "1163                        145             True  \n",
      "1164                        102             True  \n",
      "1165                         87             True  \n",
      "1171                        150             True  \n",
      "\n",
      "[459 rows x 6 columns]\n"
     ]
    }
   ],
   "source": [
    "# generate the DataFrame of maternal smokers and the second DataFrame of non-smokers\n",
    "df_grouped = df.groupby('Maternal Smoker')\n",
    "df_nonsmoker = df_grouped.get_group(False)\n",
    "df_smoker = df_grouped.get_group(True)\n",
    "print(df_smoker)"
   ]
  },
  {
   "cell_type": "code",
   "execution_count": 16,
   "id": "f0f23f24",
   "metadata": {},
   "outputs": [
    {
     "data": {
      "text/plain": [
       "Ttest_indResult(statistic=-8.718755502379533, pvalue=9.461067881089321e-18)"
      ]
     },
     "execution_count": 16,
     "metadata": {},
     "output_type": "execute_result"
    }
   ],
   "source": [
    "# Fetch the column of Birth Weight from each DataFrame\n",
    "weight_smoker = df_smoker['Birth Weight']\n",
    "weight_nonsmoker = df_nonsmoker['Birth Weight']\n",
    "\n",
    "# T-test to generate the p-value of the null hypothesis\n",
    "ttest_ind(weight_smoker, weight_nonsmoker)"
   ]
  }
 ],
 "metadata": {
  "kernelspec": {
   "display_name": "Python 3 (ipykernel)",
   "language": "python",
   "name": "python3"
  },
  "language_info": {
   "codemirror_mode": {
    "name": "ipython",
    "version": 3
   },
   "file_extension": ".py",
   "mimetype": "text/x-python",
   "name": "python",
   "nbconvert_exporter": "python",
   "pygments_lexer": "ipython3",
   "version": "3.9.13"
  }
 },
 "nbformat": 4,
 "nbformat_minor": 5
}
