{
 "cells": [
  {
   "cell_type": "code",
   "execution_count": 34,
   "id": "168bdb12",
   "metadata": {},
   "outputs": [],
   "source": [
    "import pandas as pd\n",
    "from matplotlib import pyplot as plt"
   ]
  },
  {
   "cell_type": "code",
   "execution_count": 41,
   "id": "99993645",
   "metadata": {},
   "outputs": [],
   "source": [
    "#import data\n",
    "exam = pd.read_csv(\"exams.csv\")"
   ]
  },
  {
   "cell_type": "code",
   "execution_count": 42,
   "id": "3c20e56e",
   "metadata": {},
   "outputs": [
    {
     "name": "stdout",
     "output_type": "stream",
     "text": [
      "   gender race/ethnicity parental level of education         lunch  \\\n",
      "0    male        group A                 high school      standard   \n",
      "1  female        group D            some high school  free/reduced   \n",
      "2    male        group E                some college  free/reduced   \n",
      "3    male        group B                 high school      standard   \n",
      "4    male        group E          associate's degree      standard   \n",
      "5  female        group D                 high school      standard   \n",
      "6  female        group A           bachelor's degree      standard   \n",
      "7    male        group E                some college      standard   \n",
      "8    male        group D                 high school      standard   \n",
      "9    male        group C                some college  free/reduced   \n",
      "\n",
      "  test preparation course  math score  reading score  writing score  \n",
      "0               completed          67             67             63  \n",
      "1                    none          40             59             55  \n",
      "2                    none          59             60             50  \n",
      "3                    none          77             78             68  \n",
      "4               completed          78             73             68  \n",
      "5                    none          63             77             76  \n",
      "6                    none          62             59             63  \n",
      "7               completed          93             88             84  \n",
      "8                    none          63             56             65  \n",
      "9                    none          47             42             45  \n"
     ]
    }
   ],
   "source": [
    "# print out the first 10 rows\n",
    "print(exam.head(10))"
   ]
  },
  {
   "cell_type": "code",
   "execution_count": 43,
   "id": "10232f59",
   "metadata": {},
   "outputs": [
    {
     "name": "stdout",
     "output_type": "stream",
     "text": [
      "   math score\n",
      "0          67\n",
      "1          40\n",
      "2          59\n",
      "3          77\n",
      "4          78\n",
      "5          63\n",
      "6          62\n",
      "7          93\n",
      "8          63\n",
      "9          47\n"
     ]
    }
   ],
   "source": [
    "# fetch the column\n",
    "mathScore = exam.iloc[:, 5:6]\n",
    "print(mathScore.head(10))"
   ]
  },
  {
   "cell_type": "code",
   "execution_count": 44,
   "id": "f12b04e9",
   "metadata": {},
   "outputs": [
    {
     "name": "stdout",
     "output_type": "stream",
     "text": [
      "       math score\n",
      "count   1000.0000\n",
      "mean      66.3960\n",
      "std       15.4029\n",
      "min       13.0000\n",
      "25%       56.0000\n",
      "50%       66.5000\n",
      "75%       77.0000\n",
      "max      100.0000\n"
     ]
    }
   ],
   "source": [
    "# Get the statistics of the math scores.\n",
    "print(mathScore.describe())"
   ]
  },
  {
   "cell_type": "code",
   "execution_count": 51,
   "id": "0d66bcf7",
   "metadata": {
    "scrolled": true
   },
   "outputs": [
    {
     "data": {
      "image/png": "[encoded data removed]",
      "text/plain": [
       "<Figure size 640x480 with 1 Axes>"
      ]
     },
     "metadata": {},
     "output_type": "display_data"
    }
   ],
   "source": [
    "# generate a histogram of the math scores \n",
    "plt.hist(mathScore, 30)\n",
    "plt.title(\"Histogram of Math Scores\")\n",
    "plt.show()"
   ]
  },
  {
   "cell_type": "code",
   "execution_count": null,
   "id": "9b02246d",
   "metadata": {},
   "outputs": [],
   "source": [
    "# explain your histogram, mean, median, mode, skewness, and what this skewness means"
   ]
  },
  {
   "cell_type": "code",
   "execution_count": 48,
   "id": "c22e623f",
   "metadata": {},
   "outputs": [
    {
     "name": "stdout",
     "output_type": "stream",
     "text": [
      "  test preparation course\n",
      "0               completed\n",
      "1                    none\n",
      "2                    none\n",
      "3                    none\n",
      "4               completed\n"
     ]
    }
   ],
   "source": [
    "# get the column of test preperation course\n",
    "prepCourse = exam.iloc[:, 4:5]\n",
    "print(prepCourse.head(5))"
   ]
  },
  {
   "cell_type": "code",
   "execution_count": 50,
   "id": "0bfb4770",
   "metadata": {},
   "outputs": [
    {
     "name": "stdout",
     "output_type": "stream",
     "text": [
      "test preparation course\n",
      "none                       665\n",
      "completed                  335\n",
      "dtype: int64\n"
     ]
    }
   ],
   "source": [
    "# get the counts how many students completed the course versas how many students did not. \n",
    "print(prepCourse.value_counts())"
   ]
  },
  {
   "cell_type": "code",
   "execution_count": null,
   "id": "8fede739",
   "metadata": {},
   "outputs": [],
   "source": []
  }
 ],
 "metadata": {
  "kernelspec": {
   "display_name": "Python 3 (ipykernel)",
   "language": "python",
   "name": "python3"
  },
  "language_info": {
   "codemirror_mode": {
    "name": "ipython",
    "version": 3
   },
   "file_extension": ".py",
   "mimetype": "text/x-python",
   "name": "python",
   "nbconvert_exporter": "python",
   "pygments_lexer": "ipython3",
   "version": "3.9.13"
  }
 },
 "nbformat": 4,
 "nbformat_minor": 5
}
